{
 "cells": [
  {
   "cell_type": "markdown",
   "metadata": {},
   "source": [
    "### 根据表3-7，绘制幅频响应曲线图Au=F(f)。"
   ]
  },
  {
   "cell_type": "code",
   "execution_count": null,
   "metadata": {},
   "outputs": [],
   "source": [
    "import pandas as pd\n",
    "import matplotlib.pyplot as plt\n",
    "\n",
    "# 设置matplotlib库的字体为SimHei，以支持中文显示\n",
    "plt.rcParams[\"font.sans-serif\"] = [\"SimHei\"]\n",
    "plt.rcParams[\"axes.unicode_minus\"] = False\n",
    "\n",
    "# 创建一个包含频率和幅度数据的DataFrame\n",
    "data = pd.DataFrame(\n",
    "    {\n",
    "        \"f\": [\n",
    "            \"10Hz\",\n",
    "            \"50Hz\",\n",
    "            \"100Hz\",\n",
    "            \"1kHz\",\n",
    "            \"10kHz\",\n",
    "            \"100kHz\",\n",
    "            \"1MHz\",\n",
    "            \"2MHz\",\n",
    "            \"3MHz\",\n",
    "        ],\n",
    "        \"Au\": [0.6672, 0.9468, 0.9842, 0.9986, 0.9956, 1, 0.9986, 0.9986, 0.993],\n",
    "    }\n",
    ")\n",
    "\n",
    "# 将频率转换为数值，以便于绘图\n",
    "data[\"f\"] = pd.to_numeric(\n",
    "    data[\"f\"].replace({\"Hz\": \"\", \"k\": \"e3\", \"M\": \"e6\"}, regex=True)\n",
    ")\n",
    "\n",
    "# 创建一个新的图形\n",
    "plt.figure()\n",
    "\n",
    "# 在图形上绘制频率和幅度数据，使用对数比率的x轴\n",
    "plt.semilogx(data[\"f\"], data[\"Au\"])\n",
    "\n",
    "# 在图形上绘制频率和幅度数据\n",
    "plt.plot(data[\"f\"], data[\"Au\"], color=\"b\", marker=\"o\", label=\"幅频响应曲线\")\n",
    "\n",
    "# 设置图形的标题，x轴和y轴的标签\n",
    "plt.title(\"幅频响应曲线图\")\n",
    "plt.legend()\n",
    "plt.xlabel(\"频率 (Hz)\")\n",
    "plt.ylabel(\"幅度 (Au)\")\n",
    "\n",
    "# 显示图形\n",
    "plt.show()"
   ]
  }
 ],
 "metadata": {
  "kernelspec": {
   "display_name": "Python 3",
   "language": "python",
   "name": "python3"
  },
  "language_info": {
   "codemirror_mode": {
    "name": "ipython",
    "version": 3
   },
   "file_extension": ".py",
   "mimetype": "text/x-python",
   "name": "python",
   "nbconvert_exporter": "python",
   "pygments_lexer": "ipython3",
   "version": "3.12.3"
  }
 },
 "nbformat": 4,
 "nbformat_minor": 2
}
